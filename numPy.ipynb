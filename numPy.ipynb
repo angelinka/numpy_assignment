{
 "cells": [
  {
   "cell_type": "markdown",
   "metadata": {},
   "source": [
    "\n",
    "<img src=\"Images/NumPy_logo.png\" width=\"400\">"
   ]
  },
  {
   "cell_type": "markdown",
   "metadata": {},
   "source": [
    "# Programming for Data Analysis Assignment\n",
    "\n",
    "## numpy.random package\n",
    "***\n",
    "\n",
    "**Assignment objectives:**\n",
    "\n",
    "1. Explain the overall purpose of the package.\n",
    "2. Explain the use of the “Simple random data” and “Permutations” functions. \n",
    "3. Explain the use and purpose of at least five “Distributions” functions.\n",
    "4. Explain the use of seeds in generating pseudorandom numbers.\n",
    "\n",
    "## 1. NumPy and random number generators\n",
    "***\n",
    "\n",
    "NumPy, stands for Numerical Python \"is the fundamental package for scientific computing in Python. It is a Python library that provides a multidimensional array object, various derived objects (such as masked arrays and matrices), and an assortment of routines for fast operations on arrays, including mathematical, logical, shape manipulation, sorting, selecting, I/O, discrete Fourier transforms, basic linear algebra, basic statistical operations, random simulation and much more.\" [numpy.org](https://numpy.org/devdocs/user/whatisnumpy.html)\n",
    "\n",
    "NumPy was created in 2005 by Travis Oliphant who incorporating features of the Numarray into Numeric, with extensive modifications. NumPy is open-source software and has many contributors. [Wikipedia](https://en.wikipedia.org/wiki/NumPy)\n",
    "\n",
    "**`numpy.random`** is a module within the NumPy package which is used to generate pseudo-random values and provides a range of tools to  manipulate them. This module is similar to the Python standard library random but it works with numpy arrays.  It allows to create arrays of random numbers from various probability distributions and also randomly sample from arrays or lists. This module is frequently used to fake or simulate data which is an important tool in data analysis, scientific research, machine learning and multiple other areas. The simulated data becomes very handy as it can be used to test methods before applying them to the real data.\n",
    "\n",
    "Python's standard library random  only samples one value at a time while numpy.random can efficiently generate arrays of sample values from various probability distributions and provides additional probability distributions to use. Numpy's random module is much faster and more efficient than the standard Python’s random library particularly when working with lots of samples, however for other simpler purposes the random module can be sufficient and even more efficient.\n",
    "\n",
    "As computers cannot generate truly random numbers - they need a set of instructions to produce an output, that means they are predictable and reproducible which is beneficial when creating and testing code. Therefore both of the random modules can only produce what is called  pseudorandom numbers that may appear random but they are not truly so.\n",
    "\n",
    "“Random number generators have applications in gambling, statistical sampling, computer simulation, cryptography, completely randomized design, and other areas where producing an unpredictable result is desirable.” Monte Carlo simulation uses random numbers to simulate real world problems. They are often used to assess the risk of a given trading strategy for options or stocks. A Monte Carlo simulator allow to visualize most of the potential outcomes which gives a much better idea regarding the risk of a decision. They are also used in cryptography – so long as the seed is secret. Sender and receiver can generate the same set of numbers automatically to use as keys.\n",
    "\n",
    "In Machine learning random sampling  is often used an actual datasets for testing and evaluation analytical methods and algorithms. “Machine learning is about learning some properties of a data set and then testing those properties against another data set. A common practice in machine learning is to evaluate an algorithm by splitting a data set into two. We call one of those sets the training set, on which we learn some properties; we call the other set the testing set, on which we test the learned properties.”  The machine learning algorithms in the scikit-learn package use numpy.random in the background. \n",
    "[scikit-learn](https://scikit-learn.org/stable/tutorial/basic/tutorial.html)\n",
    "\n",
    "“Numpy’s random number routines produce pseudo random numbers using combinations of a BitGenerator to create sequences and a Generator to use those sequences to sample from different statistical distributions” [Random sampling]( https://numpy.org/doc/stable/reference/random/index.html)\n",
    "\n",
    "Let's create an instance of a generator using `numpy.random` package. But before we proceed, we need to do all the necessary imports first:\n"
   ]
  },
  {
   "cell_type": "code",
   "execution_count": 1,
   "metadata": {},
   "outputs": [
    {
     "data": {
      "text/plain": [
       "Generator(PCG64) at 0x7FC2464007C0"
      ]
     },
     "execution_count": 1,
     "metadata": {},
     "output_type": "execute_result"
    }
   ],
   "source": [
    "# importing NumPy module\n",
    "import numpy as np\n",
    "\n",
    "# for data analysis\n",
    "import pandas as pd\n",
    "\n",
    "# importing matplotlib and seaborn for plotting and visualisations\n",
    "import matplotlib.pyplot as plt\n",
    "import seaborn as sns\n",
    "\n",
    "# We can create a new constructor using the default_rng method to get a new instance of a random number generator.\n",
    "rng = np.random.default_rng()\n",
    "rng"
   ]
  },
  {
   "cell_type": "markdown",
   "metadata": {},
   "source": [
    "\"PCG is a family of simple fast space-efficient statistically good algorithms for random number generation. Unlike many general-purpose RNGs, they are also hard to predict.\" [pcg-random.org](https://www.pcg-random.org/index.html)\n",
    "\n",
    "## 2.1 Simple random data\n",
    "***\n",
    "\n",
    "There are four methods in Simple random data which we going to explore below: **random, integers, choice** and **bytes.**\n",
    "\n",
    "It is very easy to create a random number(s) using `numpy.random`. As a first example, let's create 5 random float numbers between 0 and 1 by using the instance of a random number generator which we have created above.\n",
    "\n",
    "<span style=\"color:Blue; font-weight:bold;\">random</span>([size, dtype, out]) returns random floats in the half-open interval [0.0, 1.0)."
   ]
  },
  {
   "cell_type": "code",
   "execution_count": 2,
   "metadata": {},
   "outputs": [
    {
     "data": {
      "text/plain": [
       "array([0.0518745 , 0.96809858, 0.83493772, 0.71656009, 0.12238895])"
      ]
     },
     "execution_count": 2,
     "metadata": {},
     "output_type": "execute_result"
    }
   ],
   "source": [
    "# returns an array of 5 floats (if no parameters are specified, returns just one number).\n",
    "rng.random(5)"
   ]
  },
  {
   "cell_type": "code",
   "execution_count": 3,
   "metadata": {},
   "outputs": [
    {
     "data": {
      "text/plain": [
       "array([[0.22041389, 0.52818797, 0.84609794],\n",
       "       [0.74994244, 0.13205124, 0.19505103]])"
      ]
     },
     "execution_count": 3,
     "metadata": {},
     "output_type": "execute_result"
    }
   ],
   "source": [
    "# returns an array of 2x3 floats\n",
    "rng.random((2,3))"
   ]
  },
  {
   "cell_type": "code",
   "execution_count": 4,
   "metadata": {},
   "outputs": [
    {
     "data": {
      "text/plain": [
       "array([[-0.02029272, -1.56617243],\n",
       "       [-0.78177919, -2.04320788],\n",
       "       [-1.76858159, -1.16894711]])"
      ]
     },
     "execution_count": 4,
     "metadata": {},
     "output_type": "execute_result"
    }
   ],
   "source": [
    "# Three-by-two array of random numbers from [-3, 0):\n",
    "3 * rng.random((3, 2)) - 3"
   ]
  },
  {
   "cell_type": "markdown",
   "metadata": {},
   "source": [
    "<span style=\"color:Blue; font-weight:bold;\">integers</span>(low[, high, size, dtype, endpoint])) returns random integers from low (inclusive) to high (exclusive), or if endpoint=True, low (inclusive) to high (inclusive)."
   ]
  },
  {
   "cell_type": "code",
   "execution_count": 5,
   "metadata": {},
   "outputs": [
    {
     "data": {
      "text/plain": [
       "7"
      ]
     },
     "execution_count": 5,
     "metadata": {},
     "output_type": "execute_result"
    }
   ],
   "source": [
    "# returns an integer between 0-9\n",
    "rng.integers(10)"
   ]
  },
  {
   "cell_type": "code",
   "execution_count": 6,
   "metadata": {},
   "outputs": [
    {
     "data": {
      "text/plain": [
       "array([5, 7, 5, 7, 5, 7, 6, 6, 6, 5])"
      ]
     },
     "execution_count": 6,
     "metadata": {},
     "output_type": "execute_result"
    }
   ],
   "source": [
    "# returns an array of 10 numbers between 5-8\n",
    "rng.integers(5, 8, 10)"
   ]
  },
  {
   "cell_type": "markdown",
   "metadata": {},
   "source": [
    "<span style=\"color:Blue; font-weight:bold;\">bytes</span>(length) returns random bytes. The length of the string to be returned must be provided to the numpy.random.bytes function."
   ]
  },
  {
   "cell_type": "code",
   "execution_count": 7,
   "metadata": {},
   "outputs": [
    {
     "data": {
      "text/plain": [
       "b'K\\x19Z\\xf0\\x89\\xca\\nXR\\xac'"
      ]
     },
     "execution_count": 7,
     "metadata": {},
     "output_type": "execute_result"
    }
   ],
   "source": [
    "# returns 10 random bytes\n",
    "rng.bytes(10)"
   ]
  },
  {
   "cell_type": "markdown",
   "metadata": {},
   "source": [
    "<span style=\"color:Blue; font-weight:bold;\">choice</span>(a[, size, replace, p, axis, shuffle]) gmenerates a random sample from a given array. "
   ]
  },
  {
   "cell_type": "code",
   "execution_count": 8,
   "metadata": {},
   "outputs": [
    {
     "data": {
      "text/plain": [
       "array([17, 15, 18, 15, 11])"
      ]
     },
     "execution_count": 8,
     "metadata": {},
     "output_type": "execute_result"
    }
   ],
   "source": [
    "# choose 5 numbers at random from the range 0-19\n",
    "rng.choice(20, 5)"
   ]
  },
  {
   "cell_type": "markdown",
   "metadata": {},
   "source": [
    "We can use **choice()** methods with other data types, for example strings"
   ]
  },
  {
   "cell_type": "markdown",
   "metadata": {},
   "source": []
  },
  {
   "cell_type": "code",
   "execution_count": 9,
   "metadata": {},
   "outputs": [
    {
     "data": {
      "text/plain": [
       "array(['green', 'orange'], dtype='<U6')"
      ]
     },
     "execution_count": 9,
     "metadata": {},
     "output_type": "execute_result"
    }
   ],
   "source": [
    "# create a list of strings\n",
    "colors = [\"green\", \"red\", \"blue\", \"orange\", \"white\"]\n",
    "\n",
    "# choose 2 items from the list\n",
    "rng.choice(colors, size=2)"
   ]
  },
  {
   "cell_type": "markdown",
   "metadata": {},
   "source": [
    "We can 'weight' the probability for each item in the list. In the example below the 5th and and the 3d items in the list are respectivle 5 times and 2 times more likely to be returned than the others."
   ]
  },
  {
   "cell_type": "code",
   "execution_count": 10,
   "metadata": {},
   "outputs": [
    {
     "data": {
      "text/plain": [
       "array(['white', 'red', 'white', 'white', 'green', 'blue'], dtype='<U6')"
      ]
     },
     "execution_count": 10,
     "metadata": {},
     "output_type": "execute_result"
    }
   ],
   "source": [
    "rng.choice(colors, p=[0.1, 0.2, 0.1, 0.1, 0.5], size=6)"
   ]
  },
  {
   "cell_type": "markdown",
   "metadata": {},
   "source": [
    "## 2.2 Permutations\n",
    "***\n",
    "\n",
    "There are three permutations methods in the numpy.random package.\n",
    "\n",
    "- <span style=\"color:Blue; font-weight:bold;\">shuffle</span>(x[, axis]) is used to modify an array or sequence in-place by shuffling its contents.\n",
    "- <span style=\"color:Blue; font-weight:bold;\">permutation</span>(x[, axis]) is used to randomly permute a sequence, or return a permuted range.\n",
    "- <span style=\"color:Blue; font-weight:bold;\">permuted</span>(x[, axis, out]) is used to randomly permute x along axis *axis*.\n",
    "\n",
    "These methods can be used to (re)arrange series of numbers or to change the order of samples in a sequence. In machine learning these functions are often used to separate a dataset into training and test sets. Permutation method can be used to shuffled multi-dimensional arrays. When shuffling rows of data it is usually important to keep the contents of the row together while the order of the rows will be moved about.\n",
    "The main difference between \"permutation\" and  \"shuffle\" is that first one creates a new array while the other one alters the original array.\n",
    "\n",
    "To get a better understanding of how it works, let's look at some examples below:"
   ]
  },
  {
   "cell_type": "code",
   "execution_count": 11,
   "metadata": {},
   "outputs": [
    {
     "data": {
      "text/plain": [
       "array([0, 1, 2, 3, 4, 5, 6, 7, 8, 9])"
      ]
     },
     "execution_count": 11,
     "metadata": {},
     "output_type": "execute_result"
    }
   ],
   "source": [
    "# creating an array of numbers 0 to 10\n",
    "arr1 = np.arange(10)\n",
    "arr1"
   ]
  },
  {
   "cell_type": "code",
   "execution_count": 12,
   "metadata": {},
   "outputs": [
    {
     "data": {
      "text/plain": [
       "array([8, 6, 3, 5, 7, 9, 1, 2, 4, 0])"
      ]
     },
     "execution_count": 12,
     "metadata": {},
     "output_type": "execute_result"
    }
   ],
   "source": [
    "# 'shuffles' the array, the original array is now altered\n",
    "rng.shuffle(arr1)\n",
    "arr1"
   ]
  },
  {
   "cell_type": "code",
   "execution_count": 13,
   "metadata": {},
   "outputs": [
    {
     "data": {
      "text/plain": [
       "array([[ 2,  4,  6,  8, 10],\n",
       "       [12, 14, 16, 18, 20],\n",
       "       [22, 24, 26, 28, 30],\n",
       "       [32, 34, 36, 38, 40]])"
      ]
     },
     "execution_count": 13,
     "metadata": {},
     "output_type": "execute_result"
    }
   ],
   "source": [
    "arr2 = np.arange(2,41,2).reshape(4,5)   ## create a 4 by 5 two-dimensional array\n",
    "arr2"
   ]
  },
  {
   "cell_type": "code",
   "execution_count": 14,
   "metadata": {},
   "outputs": [
    {
     "data": {
      "text/plain": [
       "array([[ 8,  6,  2, 10,  4],\n",
       "       [18, 16, 12, 20, 14],\n",
       "       [28, 26, 22, 30, 24],\n",
       "       [38, 36, 32, 40, 34]])"
      ]
     },
     "execution_count": 14,
     "metadata": {},
     "output_type": "execute_result"
    }
   ],
   "source": [
    "# shuffles the 2D array within rows only\n",
    "rng.shuffle(arr2, axis=1)\n",
    "arr2"
   ]
  },
  {
   "cell_type": "markdown",
   "metadata": {},
   "source": [
    "Now let's look at permutation method when used on the same arrays"
   ]
  },
  {
   "cell_type": "code",
   "execution_count": 15,
   "metadata": {},
   "outputs": [
    {
     "data": {
      "text/plain": [
       "array([0, 1, 2, 3, 4, 5, 6, 7, 8, 9])"
      ]
     },
     "execution_count": 15,
     "metadata": {},
     "output_type": "execute_result"
    }
   ],
   "source": [
    "# creating an array of numbers 0 to 10\n",
    "arr3 = np.arange(10)\n",
    "arr3"
   ]
  },
  {
   "cell_type": "code",
   "execution_count": 16,
   "metadata": {},
   "outputs": [
    {
     "data": {
      "text/plain": [
       "array([8, 2, 0, 4, 5, 9, 7, 1, 6, 3])"
      ]
     },
     "execution_count": 16,
     "metadata": {},
     "output_type": "execute_result"
    }
   ],
   "source": [
    "# random permutation\n",
    "rng.permutation(arr3)"
   ]
  },
  {
   "cell_type": "code",
   "execution_count": 17,
   "metadata": {},
   "outputs": [
    {
     "data": {
      "text/plain": [
       "array([0, 1, 2, 3, 4, 5, 6, 7, 8, 9])"
      ]
     },
     "execution_count": 17,
     "metadata": {},
     "output_type": "execute_result"
    }
   ],
   "source": [
    "# the original array is intact\n",
    "arr3"
   ]
  },
  {
   "cell_type": "code",
   "execution_count": 18,
   "metadata": {},
   "outputs": [
    {
     "data": {
      "text/plain": [
       "array([[ 2,  4,  6,  8, 10],\n",
       "       [12, 14, 16, 18, 20],\n",
       "       [22, 24, 26, 28, 30],\n",
       "       [32, 34, 36, 38, 40]])"
      ]
     },
     "execution_count": 18,
     "metadata": {},
     "output_type": "execute_result"
    }
   ],
   "source": [
    "arr4 = np.arange(2,41,2).reshape(4,5)   ## create a 4 by 5 two-dimensional array\n",
    "arr4"
   ]
  },
  {
   "cell_type": "code",
   "execution_count": 19,
   "metadata": {},
   "outputs": [
    {
     "data": {
      "text/plain": [
       "array([[12, 14, 16, 18, 20],\n",
       "       [22, 24, 26, 28, 30],\n",
       "       [32, 34, 36, 38, 40],\n",
       "       [ 2,  4,  6,  8, 10]])"
      ]
     },
     "execution_count": 19,
     "metadata": {},
     "output_type": "execute_result"
    }
   ],
   "source": [
    "# permutates the 2D array - rows only\n",
    "rng.permutation(arr4)"
   ]
  },
  {
   "cell_type": "code",
   "execution_count": 20,
   "metadata": {},
   "outputs": [
    {
     "data": {
      "text/plain": [
       "array([[ 4, 10,  2,  8,  6],\n",
       "       [14, 20, 12, 18, 16],\n",
       "       [24, 30, 22, 28, 26],\n",
       "       [34, 40, 32, 38, 36]])"
      ]
     },
     "execution_count": 20,
     "metadata": {},
     "output_type": "execute_result"
    }
   ],
   "source": [
    "# permutates 'colums' in the 2D array\n",
    "rng.permutation(arr4, axis=1)"
   ]
  },
  {
   "cell_type": "code",
   "execution_count": 21,
   "metadata": {},
   "outputs": [
    {
     "data": {
      "text/plain": [
       "array([[ 2,  4,  6,  8, 10],\n",
       "       [12, 14, 16, 18, 20],\n",
       "       [22, 24, 26, 28, 30],\n",
       "       [32, 34, 36, 38, 40]])"
      ]
     },
     "execution_count": 21,
     "metadata": {},
     "output_type": "execute_result"
    }
   ],
   "source": [
    "# just to confirm, the original array is intact\n",
    "arr4"
   ]
  },
  {
   "cell_type": "markdown",
   "metadata": {},
   "source": [
    "If we use **permuted** method on the same array, we can notice that each slice along the given axis is shuffled independently of the others."
   ]
  },
  {
   "cell_type": "code",
   "execution_count": 22,
   "metadata": {},
   "outputs": [],
   "source": [
    "#rng.permuted(arr4, axis=1)"
   ]
  },
  {
   "cell_type": "markdown",
   "metadata": {},
   "source": [
    "We can also use permutation to create a random array from a range"
   ]
  },
  {
   "cell_type": "code",
   "execution_count": 23,
   "metadata": {},
   "outputs": [
    {
     "name": "stdout",
     "output_type": "stream",
     "text": [
      "[16 26 36 19 10  9  7 21 37 46 20 22 39 33 11 38 31 17 41 27 24 15  4 14\n",
      " 42 32 12 49 47 18  2 44 35  1 30  0 45  5 23 25  3 40  6 13 34 29  8 43\n",
      " 28 48]\n"
     ]
    }
   ],
   "source": [
    "# creates a permutation of the numbers 0-49\n",
    "print(rng.permutation(50))"
   ]
  },
  {
   "cell_type": "markdown",
   "metadata": {},
   "source": [
    "## 3. Probability Distribution\n",
    "***\n",
    "\n",
    "A probability distribution is a statistical function that describes all the possible values and likelihoods that a random variable can take within a given range. There are many different patterns of probability and random numbers can be drawn from various probability distributions.\n",
    "\n",
    "Probability distributions are of two types:\n",
    "1. Discrete Probability Distribution\n",
    "2. Continuous Probability Distribution or Probability Density Function\n",
    "\n",
    "A discrete random variable is one where its set of possible values is a collection of isolated points on the number line - it has a finite set of specific outcomes, while a continuous random variable is one where its set of possible values is an entire interval on the number line. Discrete random variables almost always come from counting while continuous random variables mostly come from measurement.\n",
    "\n",
    "Probability distributions are used widely in data analytics, statistical analysis and machine learning. They can be simulated based on their mathematical properties. Probability distributions are derived from variance or uncertainty and show which outcomes are more likely and which are less likely.\n",
    "\n",
    "There is a very long list of various probability distribution which can be found on [Wikipedia](https://en.wikipedia.org/wiki/List_of_probability_distributions). In this project we going to have a look at a five of most commonly used ones as example. \n",
    "\n",
    "## 3.1 Normal (Gaussian) Distribution\n"
   ]
  },
  {
   "cell_type": "markdown",
   "metadata": {},
   "source": [
    "[Normal distribution](https://www.britannica.com/topic/normal-distribution), also known as Gaussian Distribution represents the behavior of most situations in the universe. It is the most important probability distribution in statistics for independent, random variables.  It has a symmetric, bell shaped density curve which is described by its mean 𝝁 and standard deviation 𝝈. It represents things like IQ Scores, heartbeats, people's heights and weights, among others.\n",
    "\n",
    "The [`numpy.random.normal(loc=0.0, scale=1.0, size=None)`](https://numpy.org/doc/stable/reference/random/generated/numpy.random.Generator.normal.html#numpy.random.Generator.normal) function generates random number in a bell shaped curve centred around zero but spread out according to the scale parameter.\n",
    "\n",
    "The following parameters are used in the function:\n",
    "- <span style=\"color:Blue; font-weight:bold;\">loc</span> argument is used to specify the mean or the centre of the distribution (peak of the bell curve)\n",
    "- <span style=\"color:Blue; font-weight:bold;\">scale</span> is used to specify the standard deviation of the distribution (distance from the mean)\n",
    "- <span style=\"color:Blue; font-weight:bold;\">size</span> is the number of random variables to sample (shape of the array)\n",
    "\n",
    "If no paremters are passed, a single value will be returned using a mean of 0 and standard deviation of 1. This is  known as standard normal distribution and numpy.random has a separate standard_normal() function which only takes a size as a parameter and leaves the mean and standard deviation at 0 and 1 respectively. Let's have a look at both of the examples below:"
   ]
  },
  {
   "cell_type": "code",
   "execution_count": 24,
   "metadata": {},
   "outputs": [
    {
     "data": {
      "text/plain": [
       "1.5125449913826885"
      ]
     },
     "execution_count": 24,
     "metadata": {},
     "output_type": "execute_result"
    }
   ],
   "source": [
    "# Example of the normal() function without any parameters passed\n",
    "rng.normal()"
   ]
  },
  {
   "cell_type": "code",
   "execution_count": 25,
   "metadata": {},
   "outputs": [
    {
     "data": {
      "text/plain": [
       "0.8448929673735197"
      ]
     },
     "execution_count": 25,
     "metadata": {},
     "output_type": "execute_result"
    }
   ],
   "source": [
    "# Example of the standard_normal() function without any parameters passed\n",
    "rng.standard_normal()"
   ]
  },
  {
   "cell_type": "markdown",
   "metadata": {},
   "source": [
    "Now, let's create an array of 100 values using standard_normal() function with 𝝁 = 5."
   ]
  },
  {
   "cell_type": "code",
   "execution_count": 26,
   "metadata": {},
   "outputs": [
    {
     "data": {
      "text/plain": [
       "array([4.39796053, 4.64030881, 6.23244827, 4.83124416, 5.20409752,\n",
       "       4.17747943, 3.89020751, 6.49965636, 4.94571282, 5.49131228,\n",
       "       4.51387758, 3.69688515, 5.47356412, 6.62248968, 2.81112858,\n",
       "       5.64887678, 5.91305717, 4.66580576, 6.39089416, 5.27925719,\n",
       "       4.8982516 , 5.26190208, 5.44318496, 3.02722183, 5.86911281,\n",
       "       4.30326816, 6.35905992, 5.67889678, 4.22654524, 4.98740078,\n",
       "       5.65155723, 5.16015801, 5.48414153, 4.30114513, 5.82961114,\n",
       "       5.36834752, 5.82677646, 5.23730596, 6.04375504, 4.60803022,\n",
       "       6.16820672, 5.51086098, 5.22285666, 4.57286096, 4.66997258,\n",
       "       4.67758678, 5.11154108, 6.60268922, 6.22130913, 5.41484143,\n",
       "       4.85140779, 5.13215458, 5.60512593, 3.6277767 , 5.04242533,\n",
       "       4.48612102, 3.76518661, 3.32393727, 6.46102   , 5.49249752,\n",
       "       5.36305549, 4.17591808, 6.06832718, 5.92387277, 5.82261835,\n",
       "       5.51428856, 5.23430852, 4.8942661 , 5.34837323, 4.00872593,\n",
       "       3.97767699, 5.35202805, 5.93998231, 4.55500161, 4.90682428,\n",
       "       6.32575531, 6.30143979, 4.43447798, 5.71448635, 3.15690704,\n",
       "       4.395321  , 5.53605916, 5.85867658, 5.58422191, 3.68780431,\n",
       "       5.67352565, 4.48968829, 5.22210645, 5.78930096, 3.36107664,\n",
       "       3.03660435, 5.36111143, 4.3795438 , 4.40097453, 3.96043567,\n",
       "       5.63849174, 3.51365198, 5.54488761, 4.58668739, 3.96302834])"
      ]
     },
     "execution_count": 26,
     "metadata": {},
     "output_type": "execute_result"
    }
   ],
   "source": [
    "# specifying the mean as 4.0\n",
    "norm = rng.normal(loc=5, size=100)\n",
    "norm"
   ]
  },
  {
   "cell_type": "markdown",
   "metadata": {},
   "source": [
    "As it is always better to visualise the data instead of just looking at numbers, we going to create a few simple plots using numpy and seaborn functionality below:"
   ]
  },
  {
   "cell_type": "code",
   "execution_count": 27,
   "metadata": {},
   "outputs": [
    {
     "data": {
      "image/png": "[encoded data removed]",
      "text/plain": [
       "<Figure size 432x288 with 1 Axes>"
      ]
     },
     "metadata": {},
     "output_type": "display_data"
    }
   ],
   "source": [
    "# First, let's create a histogram using the array norm which we had created above\n",
    "sns.set_style(\"darkgrid\")\n",
    "sns.histplot(norm).set_title(\"Normal Distribution\");"
   ]
  },
  {
   "cell_type": "markdown",
   "metadata": {},
   "source": [
    "Now, let's plot the same data but using the KDE - kernal density estimation which is a useful tool in visualing normal distributions. It smooths out the curves by estimating all of the values in between.\n",
    "\n",
    "Information on how to creat KDE plot with seaborn can be found https://seaborn.pydata.org/generated/seaborn.kdeplot.html"
   ]
  },
  {
   "cell_type": "code",
   "execution_count": 28,
   "metadata": {},
   "outputs": [
    {
     "data": {
      "text/plain": [
       "Text(0.5, 1.0, 'Normal Distribution with KDE')"
      ]
     },
     "execution_count": 28,
     "metadata": {},
     "output_type": "execute_result"
    },
    {
     "data": {
      "image/png": "[encoded data removed]",
      "text/plain": [
       "<Figure size 432x288 with 1 Axes>"
      ]
     },
     "metadata": {},
     "output_type": "display_data"
    }
   ],
   "source": [
    "sns.kdeplot(data=norm, fill=True).set_title('Normal Distribution with KDE')"
   ]
  },
  {
   "cell_type": "markdown",
   "metadata": {},
   "source": [
    "From the example above we can see that the bell shape curve of our plot isn't perfect, we can improve that by choosing the higher size of the data sample. To see the diffrence that **size** parameter makes we going to look at the data sample between 10 and 1,000,000. We can use the default paramters of mean = 0 and standart deviation = 1."
   ]
  },
  {
   "cell_type": "code",
   "execution_count": 29,
   "metadata": {},
   "outputs": [],
   "source": [
    "a = rng.standard_normal(10)\n",
    "b = rng.standard_normal(100)\n",
    "c = rng.standard_normal(1000)\n",
    "d = rng.standard_normal(10000)\n",
    "e = rng.standard_normal(100000)\n",
    "f = rng.standard_normal(1000000)"
   ]
  },
  {
   "cell_type": "code",
   "execution_count": 30,
   "metadata": {},
   "outputs": [
    {
     "data": {
      "image/png": "[encoded data removed]",
      "text/plain": [
       "<Figure size 1008x720 with 6 Axes>"
      ]
     },
     "metadata": {},
     "output_type": "display_data"
    }
   ],
   "source": [
    "# creating 3 rows and 2 columns of plots\n",
    "fig, axs = plt.subplots(3,2,figsize=(14,10))\n",
    "# axs[0,0] etc. specifies location of the plot on the grid, \n",
    "# we can select the number of bins to see more detailed distribution\n",
    "axs[0,0].hist(a, bins=80)\n",
    "axs[0,0].set_title('Data Sample Size 10')\n",
    "axs[0,1].hist(b, bins=80)\n",
    "axs[0,1].set_title('Data Sample Size 100')\n",
    "axs[1,0].hist(c, bins=80)\n",
    "axs[1,0].set_title('Data Sample Size 1000')\n",
    "axs[1,1].hist(d, bins=80)\n",
    "axs[1,1].set_title('Data Sample Size 10000')\n",
    "axs[2,0].hist(e, bins=80)\n",
    "axs[2,0].set_title('Data Sample Size 100000')\n",
    "axs[2,1].hist(f, bins=80)\n",
    "axs[2,1].set_title('Data Sample Size 1000000')\n",
    "# creates space between each of the subplots\n",
    "fig.tight_layout()\n"
   ]
  },
  {
   "cell_type": "markdown",
   "metadata": {},
   "source": [
    "We can see that the last plot which has size = 1,000,000 has a perfect bell shape curve.\n",
    "\n",
    "Now we can compare the plots with different means and standard deviations."
   ]
  },
  {
   "cell_type": "code",
   "execution_count": 31,
   "metadata": {},
   "outputs": [
    {
     "data": {
      "image/png": "[encoded data removed]",
      "text/plain": [
       "<Figure size 864x432 with 1 Axes>"
      ]
     },
     "metadata": {},
     "output_type": "display_data"
    }
   ],
   "source": [
    "# Specifiyng loc, scale and size attributes\n",
    "loc,scale,size = 3,1,10000\n",
    "# Generating four random datasets specifying loc(mean) and scale(standard deviation)\n",
    "ds1 = np.random.normal(loc,scale,size)\n",
    "ds2 = np.random.normal(loc+2, scale+0.5,size)\n",
    "ds3 = np.random.normal(loc-3,scale-0.3,size)\n",
    "ds4 = np.random.normal(loc-3,scale+1.5,size)\n",
    "\n",
    "# setting size of the figure\n",
    "plt.figure(figsize=(12,6))  \n",
    "# using seaborn kdeplot function to plot \n",
    "sns.kdeplot(ds1,fill=True,label=\"$\\mu=3,\\ \\sigma=1$\")\n",
    "sns.kdeplot(ds2,fill=True, label =\"$\\mu=5,\\ \\sigma=1.5$\")\n",
    "sns.kdeplot(ds3,fill=True, label=\"$\\mu=0,\\ \\sigma=0.7$\")\n",
    "sns.kdeplot(ds4,fill=True, label =\"$\\mu=0,\\ \\sigma=2.5$\")\n",
    "plt.legend()\n",
    "plt.suptitle('Normal Distribution with various $\\mu$ and $\\sigma$')\n",
    "plt.show()"
   ]
  },
  {
   "cell_type": "markdown",
   "metadata": {},
   "source": [
    "The plot above demonstrate the bell-shaped nature of the normal distributions. When we changing the loc parameter it moves the curve along the X-axis while if we changing the scale parameter it either tightens or spreads out the width of the distribution along the X-axis.The curves never cross the x-axis, they continue to infinity in both directions of the mean. However the chances of observing values more than 3 standard deviations from the centre or mean of the curve is very small.\n",
    "\n",
    "There is an [Empirical rule](https://www.statisticshowto.com/probability-and-statistics/statistics-definitions/empirical-rule-2/) for the Normal Distribution according to which 68% of the values under the curve fall between -1 and +1 standard deviations from the mean, 95% of the values fall within two standard deviations from the mean and 99.7% within 3 standard deviations. This rule applies no matter what the mean and standard deviations are. \n",
    "\n",
    "## 3.2 Uniform Distribution\n",
    "***\n",
    "\n",
    "The uniform distribution is a symmetric probability distribution where all outcomes have an equal likelihood of occurring. All values in the distribution have a constant probability, making them uniformly distributed. This distribution is also known as the rectangular distribution because of its shape in probability distribution plots.\n",
    "\n",
    "Examples of the uniform distribution can be: rolling dice and coin tosses; the probability of drawing any card from a deck of cards. Random number generators use the uniform distribution because no number should be more common than other numbers, there is no skew in a uniform distribution like there is in other distributions.\n",
    "\n",
    "Numpy has [`numpy.random.uniform(low=0.0, high=1.0, size=None)`](https://numpy.org/doc/stable/reference/random/generated/numpy.random.uniform.html) function produces value within the given interval which is equally likely to be drawn by uniform.\n",
    "\n",
    "Let's have a look at a few examples:"
   ]
  },
  {
   "cell_type": "code",
   "execution_count": 32,
   "metadata": {},
   "outputs": [
    {
     "data": {
      "text/plain": [
       "0.14111672399112118"
      ]
     },
     "execution_count": 32,
     "metadata": {},
     "output_type": "execute_result"
    }
   ],
   "source": [
    "# if no parameters specified returns a floating point number in the interval [0,1)\n",
    "rng.uniform()"
   ]
  },
  {
   "cell_type": "markdown",
   "metadata": {},
   "source": [
    "If only one value is provided, it will be considered as the upper limit (non-inclusive)"
   ]
  },
  {
   "cell_type": "code",
   "execution_count": 33,
   "metadata": {},
   "outputs": [
    {
     "data": {
      "text/plain": [
       "2.6973606013296996"
      ]
     },
     "execution_count": 33,
     "metadata": {},
     "output_type": "execute_result"
    }
   ],
   "source": [
    "# returns a floating point number between 0.0 and 7.0\n",
    "rng.uniform(7)"
   ]
  },
  {
   "cell_type": "code",
   "execution_count": 34,
   "metadata": {},
   "outputs": [
    {
     "data": {
      "text/plain": [
       "5.046134471459252"
      ]
     },
     "execution_count": 34,
     "metadata": {},
     "output_type": "execute_result"
    }
   ],
   "source": [
    "# returns a floating point number in the interval [5,10)\n",
    "rng.uniform(5,10)"
   ]
  },
  {
   "cell_type": "markdown",
   "metadata": {},
   "source": [
    "We can also create multiple values if we use size paraeter or create a 2D array."
   ]
  },
  {
   "cell_type": "code",
   "execution_count": 35,
   "metadata": {},
   "outputs": [
    {
     "data": {
      "text/plain": [
       "array([[14.26171458,  5.30740671,  9.47909954],\n",
       "       [ 8.86014948, 14.32510387,  8.2655715 ],\n",
       "       [ 7.45087234,  9.36973367, 10.92459179],\n",
       "       [11.91468705,  8.68500918,  9.36295796]])"
      ]
     },
     "execution_count": 35,
     "metadata": {},
     "output_type": "execute_result"
    }
   ],
   "source": [
    "rng.uniform(5, 15, size=(4, 3))"
   ]
  },
  {
   "cell_type": "markdown",
   "metadata": {},
   "source": [
    "To visualize this, we can display results on the grid plot, lets use 1000 values between 5 and 15"
   ]
  },
  {
   "cell_type": "code",
   "execution_count": 36,
   "metadata": {},
   "outputs": [
    {
     "data": {
      "text/plain": [
       "[<matplotlib.lines.Line2D at 0x7fc2470e8eb0>]"
      ]
     },
     "execution_count": 36,
     "metadata": {},
     "output_type": "execute_result"
    },
    {
     "data": {
      "image/png": "[encoded data removed]",
      "text/plain": [
       "<Figure size 432x288 with 1 Axes>"
      ]
     },
     "metadata": {},
     "output_type": "display_data"
    }
   ],
   "source": [
    "s = rng.uniform(5, 15, size=1000)\n",
    "plt.plot(s, 'b.')\n"
   ]
  },
  {
   "cell_type": "markdown",
   "metadata": {},
   "source": [
    "Below, we can use the example from official [numpy documentation](https://numpy.org/doc/stable/reference/random/generated/numpy.random.uniform.html) to display the histogram of the samples, along with the probability density function"
   ]
  },
  {
   "cell_type": "code",
   "execution_count": 37,
   "metadata": {},
   "outputs": [
    {
     "data": {
      "image/png": "[encoded data removed]",
      "text/plain": [
       "<Figure size 432x288 with 1 Axes>"
      ]
     },
     "metadata": {},
     "output_type": "display_data"
    }
   ],
   "source": [
    "s = np.random.uniform(-1,0,1000)\n",
    "# use np.ones_like function to return an array of ones with the same shape and type as s.\n",
    "import matplotlib.pyplot as plt\n",
    "# specifying amont of bins - 15 \n",
    "count, bins, ignored = plt.hist(s, 15, density=True) \n",
    "plt.plot(bins, np.ones_like(bins), linewidth=2, color='r') # add a horizontal line at 1.0 using the np.ones like\n",
    "plt.show()\n"
   ]
  },
  {
   "cell_type": "markdown",
   "metadata": {},
   "source": [
    "The bigger the size of the array the easier it is to recognise uniform distribution. Below, we going to create  various sizes of arrays of values between 0 and 50. Theoretically there's an equal chance for each value to occur but this only becomes obvious when we increase the sample size, which is clearly confirmed by the plots below. The last plot which has a sample of 10 million values is almost a straight line."
   ]
  },
  {
   "cell_type": "code",
   "execution_count": 38,
   "metadata": {},
   "outputs": [],
   "source": [
    "# looking at the difference the sample size makes\n",
    "a = rng.integers(50, size = 100)\n",
    "b = rng.integers(50, size = 1000)\n",
    "c = rng.integers(50, size = 10000)\n",
    "d = rng.integers(50, size = 100000)\n",
    "e = rng.integers(50, size = 100000)\n",
    "f = rng.integers(50, size = 10000000)"
   ]
  },
  {
   "cell_type": "code",
   "execution_count": 39,
   "metadata": {},
   "outputs": [
    {
     "data": {
      "image/png": "[encoded data removed]",
      "text/plain": [
       "<Figure size 1008x720 with 6 Axes>"
      ]
     },
     "metadata": {},
     "output_type": "display_data"
    }
   ],
   "source": [
    "# creating 3 rows and 2 columns of plots\n",
    "# axs[0,0] etc. specifies location of the plot on the grid\n",
    "fig, axs = plt.subplots(3,2, figsize=(14,10))\n",
    "axs[0,0].hist(a, bins=50)\n",
    "axs[0,0].set_title('Sample Size 100')\n",
    "axs[0,1].hist(b, bins=50)\n",
    "axs[0,1].set_title('Sample Size 1000')\n",
    "axs[1,0].hist(c, bins=50)\n",
    "axs[1,0].set_title('Sample Size 10,000')\n",
    "axs[1,1].hist(d, bins=50)\n",
    "axs[1,1].set_title('Sample Size 100,000')\n",
    "axs[2,0].hist(e, bins=50)\n",
    "axs[2,0].set_title('Sample Size 1,000,000')\n",
    "axs[2,1].hist(f, bins=50)\n",
    "axs[2,1].set_title('Sample Size 10,000,000')\n",
    "# creates space between each of the subplots\n",
    "fig.tight_layout()"
   ]
  },
  {
   "cell_type": "markdown",
   "metadata": {},
   "source": [
    "## Binomial Distribution\n",
    "***\n",
    "\n",
    "[Binomial distribution](https://numpy.org/doc/stable/reference/random/generated/numpy.random.Generator.binomial.html#numpy.random.Generator.binomial) is when we're dealing with only two possible outcomes (success or a failure) in an experiment that is repeated many times. Example of the outcomes of binomial experiment can be heads or tails of a coin, true or false,  pass or fail. One of these outcomes can be called a success and the other a failure. The probability of success is the same on every trial. \n",
    "\n",
    "The `numpy.random.binomial(n, p, size=None)` function is used to sample from a binomial distribution given the number of trials **n** and the probability **p** of success on each trail. The number of samples **size** represents the number of times to repeat the n trials.\n",
    "\n",
    "Number of trials **n** should be an integer greater than or equal to zero. The probability **p** must be in the interval [0,1] as total probability always sums to one. It returns an array of samples drawn from the binomial distribution based on the n and p and size parameters given to the function. Each sample returned is equal to the number of successes over n trials.\n",
    "\n",
    "The following parameters are used in the function:\n",
    "-\t<span style=\"color:Blue; font-weight:bold;\">n</span> the number of trials,\n",
    "-\t<span style=\"color:Blue; font-weight:bold;\">p</span> the probability of success in each trial\n",
    "-\t<span style=\"color:Blue; font-weight:bold;\">size</span> is the number of samples drawn (the number of times the experiment is run)\n"
   ]
  },
  {
   "cell_type": "code",
   "execution_count": 40,
   "metadata": {},
   "outputs": [
    {
     "data": {
      "text/plain": [
       "array([0, 0, 0, 1, 1, 1, 1, 0, 1, 1])"
      ]
     },
     "execution_count": 40,
     "metadata": {},
     "output_type": "execute_result"
    }
   ],
   "source": [
    "# simple example which returns either 0 or 1 ten times\n",
    "rng.binomial(n=1, p=0.5, size=10)"
   ]
  },
  {
   "cell_type": "code",
   "execution_count": null,
   "metadata": {},
   "outputs": [],
   "source": []
  },
  {
   "cell_type": "code",
   "execution_count": null,
   "metadata": {},
   "outputs": [],
   "source": []
  },
  {
   "cell_type": "code",
   "execution_count": null,
   "metadata": {},
   "outputs": [],
   "source": []
  },
  {
   "cell_type": "code",
   "execution_count": null,
   "metadata": {},
   "outputs": [],
   "source": []
  },
  {
   "cell_type": "code",
   "execution_count": null,
   "metadata": {},
   "outputs": [],
   "source": []
  },
  {
   "cell_type": "markdown",
   "metadata": {},
   "source": [
    "britannica - https://www.britannica.com/topic/normal-distribution\n",
    "Wiki - https://en.wikipedia.org/wiki/Normal_distribution\n",
    "statisticsbyjim - https://statisticsbyjim.com/basics/normal-distribution/"
   ]
  }
 ],
 "metadata": {
  "kernelspec": {
   "display_name": "Python 3",
   "language": "python",
   "name": "python3"
  },
  "language_info": {
   "codemirror_mode": {
    "name": "ipython",
    "version": 3
   },
   "file_extension": ".py",
   "mimetype": "text/x-python",
   "name": "python",
   "nbconvert_exporter": "python",
   "pygments_lexer": "ipython3",
   "version": "3.8.5"
  }
 },
 "nbformat": 4,
 "nbformat_minor": 4
}
