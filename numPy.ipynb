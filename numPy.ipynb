{
 "cells": [
  {
   "cell_type": "markdown",
   "metadata": {},
   "source": [
    "\n",
    "<img src=\"Images/NumPy_logo.png\" width=\"400\">"
   ]
  },
  {
   "cell_type": "markdown",
   "metadata": {},
   "source": [
    "# Programming for Data Analysis Assignment\n",
    "\n",
    "## numpy.random package\n",
    "***\n",
    "\n",
    "**Assignment objectives:**\n",
    "\n",
    "1. Explain the overall purpose of the package.\n",
    "2. Explain the use of the “Simple random data” and “Permutations” functions. \n",
    "3. Explain the use and purpose of at least five “Distributions” functions.\n",
    "4. Explain the use of seeds in generating pseudorandom numbers.\n",
    "\n",
    "## 1. NumPy and random number generators\n",
    "***\n",
    "\n",
    "NumPy, stands for Numerical Python \"is the fundamental package for scientific computing in Python. It is a Python library that provides a multidimensional array object, various derived objects (such as masked arrays and matrices), and an assortment of routines for fast operations on arrays, including mathematical, logical, shape manipulation, sorting, selecting, I/O, discrete Fourier transforms, basic linear algebra, basic statistical operations, random simulation and much more.\" [numpy.org](https://numpy.org/devdocs/user/whatisnumpy.html)\n",
    "\n",
    "NumPy was created in 2005 by Travis Oliphant who incorporating features of the Numarray into Numeric, with extensive modifications. NumPy is open-source software and has many contributors. [Wikipedia](https://en.wikipedia.org/wiki/NumPy)\n",
    "\n",
    "**`numpy.random`** is a module within the NumPy package which is used to generate pseudo-random values and provides a range of tools to  manipulate them. This module is similar to the Python standard library random but it works with numpy arrays.  It allows to create arrays of random numbers from various probability distributions and also randomly sample from arrays or lists. This module is frequently used to fake or simulate data which is an important tool in data analysis, scientific research, machine learning and multiple other areas. The simulated data becomes very handy as it can be used to test methods before applying them to the real data.\n",
    "\n",
    "Python's standard library random  only samples one value at a time while numpy.random can efficiently generate arrays of sample values from various probability distributions and provides additional probability distributions to use. Numpy's random module is much faster and more efficient than the standard Python’s random library particularly when working with lots of samples, however for other simpler purposes the random module can be sufficient and even more efficient.\n",
    "\n",
    "As computers cannot generate truly random numbers - they need a set of instructions to produce an output, that means they are predictable and reproducible which is beneficial when creating and testing code. Therefore both of the random modules can only produce what is called  pseudorandom numbers that may appear random but they are not truly so.\n",
    "\n",
    "“Random number generators have applications in gambling, statistical sampling, computer simulation, cryptography, completely randomized design, and other areas where producing an unpredictable result is desirable.” Monte Carlo simulation uses random numbers to simulate real world problems. They are often used to assess the risk of a given trading strategy for options or stocks. A Monte Carlo simulator allow to visualize most of the potential outcomes which gives a much better idea regarding the risk of a decision. They are also used in cryptography – so long as the seed is secret. Sender and receiver can generate the same set of numbers automatically to use as keys.\n",
    "\n",
    "In Machine learning random sampling  is often used an actual datasets for testing and evaluation analytical methods and algorithms. “Machine learning is about learning some properties of a data set and then testing those properties against another data set. A common practice in machine learning is to evaluate an algorithm by splitting a data set into two. We call one of those sets the training set, on which we learn some properties; we call the other set the testing set, on which we test the learned properties.”  The machine learning algorithms in the scikit-learn package use numpy.random in the background. \n",
    "[scikit-learn](https://scikit-learn.org/stable/tutorial/basic/tutorial.html)\n",
    "\n",
    "“Numpy’s random number routines produce pseudo random numbers using combinations of a BitGenerator to create sequences and a Generator to use those sequences to sample from different statistical distributions” [Random sampling]( https://numpy.org/doc/stable/reference/random/index.html)\n",
    "\n",
    "Let's create an instance of a generator using `numpy.random` package. But before we proceed, we need to do all the necessary imports first:\n"
   ]
  },
  {
   "cell_type": "code",
   "execution_count": 1,
   "metadata": {},
   "outputs": [
    {
     "data": {
      "text/plain": [
       "Generator(PCG64) at 0x7FBFE12007C0"
      ]
     },
     "execution_count": 1,
     "metadata": {},
     "output_type": "execute_result"
    }
   ],
   "source": [
    "# importing NumPy module\n",
    "import numpy as np\n",
    "\n",
    "# for data analysis\n",
    "import pandas as pd\n",
    "\n",
    "# importing matplotlib and seaborn for plotting and visualisations\n",
    "import matplotlib.pyplot as plt\n",
    "import seaborn as sns\n",
    "\n",
    "# We can create a new constructor using the default_rng method to get a new instance of a random number generator.\n",
    "rng = np.random.default_rng()\n",
    "rng"
   ]
  },
  {
   "cell_type": "markdown",
   "metadata": {},
   "source": [
    "\"PCG is a family of simple fast space-efficient statistically good algorithms for random number generation. Unlike many general-purpose RNGs, they are also hard to predict.\" [pcg-random.org](https://www.pcg-random.org/index.html)\n",
    "\n",
    "## 2.1 Simple random data\n",
    "***\n",
    "\n",
    "There are four methods in Simple random data which we going to explore below: **random, integers, choice** and **bytes.**\n",
    "\n",
    "It is very easy to create a random number(s) using `numpy.random`. As a first example, let's create 5 random float numbers between 0 and 1 by using the instance of a random number generator which we have created above.\n",
    "\n",
    "<span style=\"color:Blue; font-weight:bold;\">random</span>([size, dtype, out]) returns random floats in the half-open interval [0.0, 1.0)."
   ]
  },
  {
   "cell_type": "code",
   "execution_count": 2,
   "metadata": {},
   "outputs": [
    {
     "data": {
      "text/plain": [
       "array([0.41474418, 0.18637211, 0.13054978, 0.5267281 , 0.86339372])"
      ]
     },
     "execution_count": 2,
     "metadata": {},
     "output_type": "execute_result"
    }
   ],
   "source": [
    "# returns an array of 5 floats (if no parameters are specified, returns just one number).\n",
    "rng.random(5)"
   ]
  },
  {
   "cell_type": "code",
   "execution_count": 3,
   "metadata": {},
   "outputs": [
    {
     "data": {
      "text/plain": [
       "array([[0.66822546, 0.21444887, 0.87162277],\n",
       "       [0.26653167, 0.77986924, 0.83354578]])"
      ]
     },
     "execution_count": 3,
     "metadata": {},
     "output_type": "execute_result"
    }
   ],
   "source": [
    "# returns an array of 2x3 floats\n",
    "rng.random((2,3))"
   ]
  },
  {
   "cell_type": "code",
   "execution_count": 4,
   "metadata": {},
   "outputs": [
    {
     "data": {
      "text/plain": [
       "array([[-0.80024942, -2.18744148],\n",
       "       [-0.3776508 , -2.25649242],\n",
       "       [-1.62752286, -0.58844858]])"
      ]
     },
     "execution_count": 4,
     "metadata": {},
     "output_type": "execute_result"
    }
   ],
   "source": [
    "# Three-by-two array of random numbers from [-3, 0):\n",
    "3 * rng.random((3, 2)) - 3"
   ]
  },
  {
   "cell_type": "markdown",
   "metadata": {},
   "source": [
    "<span style=\"color:Blue; font-weight:bold;\">integers</span>(low[, high, size, dtype, endpoint])) returns random integers from low (inclusive) to high (exclusive), or if endpoint=True, low (inclusive) to high (inclusive)."
   ]
  },
  {
   "cell_type": "code",
   "execution_count": 5,
   "metadata": {},
   "outputs": [
    {
     "data": {
      "text/plain": [
       "8"
      ]
     },
     "execution_count": 5,
     "metadata": {},
     "output_type": "execute_result"
    }
   ],
   "source": [
    "# returns an integer between 0-9\n",
    "rng.integers(10)"
   ]
  },
  {
   "cell_type": "code",
   "execution_count": 6,
   "metadata": {},
   "outputs": [
    {
     "data": {
      "text/plain": [
       "array([5, 7, 7, 5, 5, 7, 7, 7, 7, 7])"
      ]
     },
     "execution_count": 6,
     "metadata": {},
     "output_type": "execute_result"
    }
   ],
   "source": [
    "# returns an array of 10 numbers between 5-8\n",
    "rng.integers(5, 8, 10)"
   ]
  },
  {
   "cell_type": "markdown",
   "metadata": {},
   "source": [
    "<span style=\"color:Blue; font-weight:bold;\">bytes</span>(length) returns random bytes. The length of the string to be returned must be provided to the numpy.random.bytes function."
   ]
  },
  {
   "cell_type": "code",
   "execution_count": 7,
   "metadata": {},
   "outputs": [
    {
     "data": {
      "text/plain": [
       "b'\\xa2\\x00\\xffX(\\x0b\\x9fdp\\x9b'"
      ]
     },
     "execution_count": 7,
     "metadata": {},
     "output_type": "execute_result"
    }
   ],
   "source": [
    "# returns 10 random bytes\n",
    "rng.bytes(10)"
   ]
  },
  {
   "cell_type": "markdown",
   "metadata": {},
   "source": [
    "<span style=\"color:Blue; font-weight:bold;\">choice</span>(a[, size, replace, p, axis, shuffle]) gmenerates a random sample from a given array. "
   ]
  },
  {
   "cell_type": "code",
   "execution_count": 8,
   "metadata": {},
   "outputs": [
    {
     "data": {
      "text/plain": [
       "array([17, 19,  2, 15,  7])"
      ]
     },
     "execution_count": 8,
     "metadata": {},
     "output_type": "execute_result"
    }
   ],
   "source": [
    "# choose 5 numbers at random from the range 0-19\n",
    "rng.choice(20, 5)"
   ]
  },
  {
   "cell_type": "markdown",
   "metadata": {},
   "source": [
    "We can use **choice()** methods with other data types, for example strings"
   ]
  },
  {
   "cell_type": "markdown",
   "metadata": {},
   "source": []
  },
  {
   "cell_type": "code",
   "execution_count": 9,
   "metadata": {},
   "outputs": [
    {
     "data": {
      "text/plain": [
       "array(['orange', 'orange'], dtype='<U6')"
      ]
     },
     "execution_count": 9,
     "metadata": {},
     "output_type": "execute_result"
    }
   ],
   "source": [
    "# create a list of strings\n",
    "colors = [\"green\", \"red\", \"blue\", \"orange\", \"white\"]\n",
    "\n",
    "# choose 2 items from the list\n",
    "rng.choice(colors, size=2)"
   ]
  },
  {
   "cell_type": "markdown",
   "metadata": {},
   "source": [
    "We can 'weight' the probability for each item in the list. In the example below the 5th and and the 3d items in the list are respectivle 5 times and 2 times more likely to be returned than the others."
   ]
  },
  {
   "cell_type": "code",
   "execution_count": 10,
   "metadata": {},
   "outputs": [
    {
     "data": {
      "text/plain": [
       "array(['red', 'white', 'blue', 'white', 'red', 'blue'], dtype='<U6')"
      ]
     },
     "execution_count": 10,
     "metadata": {},
     "output_type": "execute_result"
    }
   ],
   "source": [
    "rng.choice(colors, p=[0.1, 0.2, 0.1, 0.1, 0.5], size=6)"
   ]
  },
  {
   "cell_type": "markdown",
   "metadata": {},
   "source": [
    "## 2.2 Permutations\n",
    "***\n",
    "\n",
    "There are three permutations methods in the numpy.random package.\n",
    "\n",
    "- <span style=\"color:Blue; font-weight:bold;\">shuffle</span>(x[, axis]) is used to modify an array or sequence in-place by shuffling its contents.\n",
    "- <span style=\"color:Blue; font-weight:bold;\">permutation</span>(x[, axis]) is used to randomly permute a sequence, or return a permuted range.\n",
    "- <span style=\"color:Blue; font-weight:bold;\">permuted</span>(x[, axis, out]) is used to randomly permute x along axis *axis*.\n",
    "\n",
    "These methods can be used to (re)arrange series of numbers or to change the order of samples in a sequence. In machine learning these functions are often used to separate a dataset into training and test sets. Permutation method can be used to shuffled multi-dimensional arrays. When shuffling rows of data it is usually important to keep the contents of the row together while the order of the rows will be moved about.\n",
    "The main difference between \"permutation\" and  \"shuffle\" is that first one creates a new array while the other one alters the original array.\n",
    "\n",
    "To get a better understanding of how it works, let's look at some examples below:"
   ]
  },
  {
   "cell_type": "code",
   "execution_count": 11,
   "metadata": {},
   "outputs": [
    {
     "data": {
      "text/plain": [
       "array([0, 1, 2, 3, 4, 5, 6, 7, 8, 9])"
      ]
     },
     "execution_count": 11,
     "metadata": {},
     "output_type": "execute_result"
    }
   ],
   "source": [
    "# creating an array of numbers 0 to 10\n",
    "arr1 = np.arange(10)\n",
    "arr1"
   ]
  },
  {
   "cell_type": "code",
   "execution_count": 12,
   "metadata": {},
   "outputs": [
    {
     "data": {
      "text/plain": [
       "array([7, 6, 8, 9, 2, 0, 3, 4, 1, 5])"
      ]
     },
     "execution_count": 12,
     "metadata": {},
     "output_type": "execute_result"
    }
   ],
   "source": [
    "# 'shuffles' the array, the original array is now altered\n",
    "rng.shuffle(arr1)\n",
    "arr1"
   ]
  },
  {
   "cell_type": "code",
   "execution_count": 13,
   "metadata": {},
   "outputs": [
    {
     "data": {
      "text/plain": [
       "array([[ 2,  4,  6,  8, 10],\n",
       "       [12, 14, 16, 18, 20],\n",
       "       [22, 24, 26, 28, 30],\n",
       "       [32, 34, 36, 38, 40]])"
      ]
     },
     "execution_count": 13,
     "metadata": {},
     "output_type": "execute_result"
    }
   ],
   "source": [
    "arr2 = np.arange(2,41,2).reshape(4,5)   ## create a 4 by 5 two-dimensional array\n",
    "arr2"
   ]
  },
  {
   "cell_type": "code",
   "execution_count": 14,
   "metadata": {},
   "outputs": [
    {
     "data": {
      "text/plain": [
       "array([[ 8,  2, 10,  4,  6],\n",
       "       [18, 12, 20, 14, 16],\n",
       "       [28, 22, 30, 24, 26],\n",
       "       [38, 32, 40, 34, 36]])"
      ]
     },
     "execution_count": 14,
     "metadata": {},
     "output_type": "execute_result"
    }
   ],
   "source": [
    "# shuffles the 2D array within rows only\n",
    "rng.shuffle(arr2, axis=1)\n",
    "arr2"
   ]
  },
  {
   "cell_type": "markdown",
   "metadata": {},
   "source": [
    "Now let's look at permutation method when used on the same arrays"
   ]
  },
  {
   "cell_type": "code",
   "execution_count": 15,
   "metadata": {},
   "outputs": [
    {
     "data": {
      "text/plain": [
       "array([0, 1, 2, 3, 4, 5, 6, 7, 8, 9])"
      ]
     },
     "execution_count": 15,
     "metadata": {},
     "output_type": "execute_result"
    }
   ],
   "source": [
    "# creating an array of numbers 0 to 10\n",
    "arr3 = np.arange(10)\n",
    "arr3"
   ]
  },
  {
   "cell_type": "code",
   "execution_count": 16,
   "metadata": {},
   "outputs": [
    {
     "data": {
      "text/plain": [
       "array([7, 1, 3, 6, 5, 4, 0, 8, 9, 2])"
      ]
     },
     "execution_count": 16,
     "metadata": {},
     "output_type": "execute_result"
    }
   ],
   "source": [
    "# random permutation\n",
    "rng.permutation(arr3)"
   ]
  },
  {
   "cell_type": "code",
   "execution_count": 17,
   "metadata": {},
   "outputs": [
    {
     "data": {
      "text/plain": [
       "array([0, 1, 2, 3, 4, 5, 6, 7, 8, 9])"
      ]
     },
     "execution_count": 17,
     "metadata": {},
     "output_type": "execute_result"
    }
   ],
   "source": [
    "# the original array is intact\n",
    "arr3"
   ]
  },
  {
   "cell_type": "code",
   "execution_count": 18,
   "metadata": {},
   "outputs": [
    {
     "data": {
      "text/plain": [
       "array([[ 2,  4,  6,  8, 10],\n",
       "       [12, 14, 16, 18, 20],\n",
       "       [22, 24, 26, 28, 30],\n",
       "       [32, 34, 36, 38, 40]])"
      ]
     },
     "execution_count": 18,
     "metadata": {},
     "output_type": "execute_result"
    }
   ],
   "source": [
    "arr4 = np.arange(2,41,2).reshape(4,5)   ## create a 4 by 5 two-dimensional array\n",
    "arr4"
   ]
  },
  {
   "cell_type": "code",
   "execution_count": 19,
   "metadata": {},
   "outputs": [
    {
     "data": {
      "text/plain": [
       "array([[12, 14, 16, 18, 20],\n",
       "       [32, 34, 36, 38, 40],\n",
       "       [22, 24, 26, 28, 30],\n",
       "       [ 2,  4,  6,  8, 10]])"
      ]
     },
     "execution_count": 19,
     "metadata": {},
     "output_type": "execute_result"
    }
   ],
   "source": [
    "# permutates the 2D array - rows only\n",
    "rng.permutation(arr4)"
   ]
  },
  {
   "cell_type": "code",
   "execution_count": 20,
   "metadata": {},
   "outputs": [
    {
     "data": {
      "text/plain": [
       "array([[10,  4,  6,  8,  2],\n",
       "       [20, 14, 16, 18, 12],\n",
       "       [30, 24, 26, 28, 22],\n",
       "       [40, 34, 36, 38, 32]])"
      ]
     },
     "execution_count": 20,
     "metadata": {},
     "output_type": "execute_result"
    }
   ],
   "source": [
    "# permutates 'colums' in the 2D array\n",
    "rng.permutation(arr4, axis=1)"
   ]
  },
  {
   "cell_type": "code",
   "execution_count": 21,
   "metadata": {},
   "outputs": [
    {
     "data": {
      "text/plain": [
       "array([[ 2,  4,  6,  8, 10],\n",
       "       [12, 14, 16, 18, 20],\n",
       "       [22, 24, 26, 28, 30],\n",
       "       [32, 34, 36, 38, 40]])"
      ]
     },
     "execution_count": 21,
     "metadata": {},
     "output_type": "execute_result"
    }
   ],
   "source": [
    "# just to confirm, the original array is intact\n",
    "arr4"
   ]
  },
  {
   "cell_type": "markdown",
   "metadata": {},
   "source": [
    "If we use **permuted** method on the same array, we can notice that each slice along the given axis is shuffled independently of the others."
   ]
  },
  {
   "cell_type": "code",
   "execution_count": 22,
   "metadata": {},
   "outputs": [],
   "source": [
    "#rng.permuted(arr4, axis=1)"
   ]
  },
  {
   "cell_type": "markdown",
   "metadata": {},
   "source": [
    "We can also use permutation to create a random array from a range"
   ]
  },
  {
   "cell_type": "code",
   "execution_count": 23,
   "metadata": {},
   "outputs": [
    {
     "name": "stdout",
     "output_type": "stream",
     "text": [
      "[ 2 26  6 41 22 25 20 14 48  9 38 16 23  7 42 18 40 49 15 13 35 10 43 31\n",
      " 29 37 39  3 44  5 17 12  4 36 34 24 27 28  1 45 30 47 33 11 46 19  8 32\n",
      " 21  0]\n"
     ]
    }
   ],
   "source": [
    "# creates a permutation of the numbers 0-49\n",
    "print(rng.permutation(50))"
   ]
  },
  {
   "cell_type": "markdown",
   "metadata": {},
   "source": [
    "## 3. Probability Distribution\n",
    "***\n",
    "\n",
    "A probability distribution is a statistical function that describes all the possible values and likelihoods that a random variable can take within a given range. There are many different patterns of probability and random numbers can be drawn from various probability distributions.\n",
    "\n",
    "Probability distributions are of two types:\n",
    "1. Discrete Probability Distribution\n",
    "2. Continuous Probability Distribution or Probability Density Function\n",
    "\n",
    "A discrete random variable is one where its set of possible values is a collection of isolated points on the number line - it has a finite set of specific outcomes, while a continuous random variable is one where its set of possible values is an entire interval on the number line. Discrete random variables almost always come from counting while continuous random variables mostly come from measurement.\n",
    "\n",
    "Probability distributions are used widely in data analytics, statistical analysis and machine learning. They can be simulated based on their mathematical properties. Probability distributions are derived from variance or uncertainty and show which outcomes are more likely and which are less likely.\n",
    "\n",
    "There is a very long list of various probability distribution which can be found on [Wikipedia](https://en.wikipedia.org/wiki/List_of_probability_distributions). In this project we going to have a look at a five of most commonly used ones as example. \n",
    "\n",
    "## 3.1 Normal (Gaussian) Distribution\n",
    "***"
   ]
  },
  {
   "cell_type": "markdown",
   "metadata": {},
   "source": [
    "[Normal distribution](https://www.britannica.com/topic/normal-distribution), also known as Gaussian Distribution represents the behavior of most situations in the universe. It is the most important probability distribution in statistics for independent, random variables.  It has a symmetric, bell shaped density curve which is described by its mean 𝝁 and standard deviation 𝝈. It represents things like IQ Scores, heartbeats, people's heights and weights, among others.\n",
    "\n",
    "The [`numpy.random.normal(loc=0.0, scale=1.0, size=None)`](https://numpy.org/doc/stable/reference/random/generated/numpy.random.Generator.normal.html#numpy.random.Generator.normal) function generates random number in a bell shaped curve centred around zero but spread out according to the scale parameter.\n",
    "\n",
    "The following parameters are used in the function:\n",
    "- <span style=\"color:Blue; font-weight:bold;\">loc</span> argument is used to specify the mean or the centre of the distribution (peak of the bell curve)\n",
    "- <span style=\"color:Blue; font-weight:bold;\">scale</span> is used to specify the standard deviation of the distribution (distance from the mean)\n",
    "- <span style=\"color:Blue; font-weight:bold;\">size</span> is the number of random variables to sample (shape of the array)\n",
    "\n",
    "If no paremters are passed, a single value will be returned using a mean of 0 and standard deviation of 1. This is  known as standard normal distribution and numpy.random has a separate standard_normal() function which only takes a size as a parameter and leaves the mean and standard deviation at 0 and 1 respectively. Let's have a look at both of the examples below:"
   ]
  },
  {
   "cell_type": "code",
   "execution_count": 24,
   "metadata": {},
   "outputs": [
    {
     "data": {
      "text/plain": [
       "-0.9060021191709717"
      ]
     },
     "execution_count": 24,
     "metadata": {},
     "output_type": "execute_result"
    }
   ],
   "source": [
    "# Example of the normal() function without any parameters passed\n",
    "rng.normal()"
   ]
  },
  {
   "cell_type": "code",
   "execution_count": 25,
   "metadata": {},
   "outputs": [
    {
     "data": {
      "text/plain": [
       "-0.7978141564164134"
      ]
     },
     "execution_count": 25,
     "metadata": {},
     "output_type": "execute_result"
    }
   ],
   "source": [
    "# Example of the standard_normal() function without any parameters passed\n",
    "rng.standard_normal()"
   ]
  },
  {
   "cell_type": "markdown",
   "metadata": {},
   "source": [
    "Now, let's create an array of 100 values using standard_normal() function with 𝝁 = 5."
   ]
  },
  {
   "cell_type": "code",
   "execution_count": 26,
   "metadata": {},
   "outputs": [
    {
     "data": {
      "text/plain": [
       "array([2.54470018, 6.4662357 , 4.99822192, 5.14201618, 6.41025337,\n",
       "       5.90318919, 7.74132969, 4.47749205, 6.40526364, 3.38019136,\n",
       "       3.20595252, 5.20848971, 3.34093808, 4.81001494, 4.85603452,\n",
       "       4.95532903, 5.10043393, 4.85770963, 4.2403644 , 4.79680777,\n",
       "       3.86978451, 4.29484673, 6.33727409, 5.82213179, 3.22911953,\n",
       "       2.58706028, 4.40781295, 5.24536915, 4.70334288, 4.89912268,\n",
       "       5.25769577, 6.11497553, 4.37020747, 4.03776357, 4.66582743,\n",
       "       3.95315689, 2.68335573, 3.94457147, 5.03423061, 5.52489378,\n",
       "       5.93309279, 4.87390704, 7.21383414, 2.96626389, 4.85714483,\n",
       "       5.61216666, 7.00400823, 5.47924729, 5.78848455, 6.06586563,\n",
       "       4.5503112 , 4.88805119, 5.0733382 , 4.94085598, 3.73652862,\n",
       "       4.95047615, 4.1379388 , 3.9736998 , 7.02469101, 5.85438956,\n",
       "       5.19827085, 4.29444445, 4.93554356, 5.56957939, 4.8556268 ,\n",
       "       4.5831519 , 4.83244732, 3.0480502 , 4.59227185, 3.40010438,\n",
       "       5.37377684, 5.85911859, 5.16881642, 5.37098388, 5.26173679,\n",
       "       7.31505464, 4.12134654, 3.74423974, 3.34777046, 4.54636277,\n",
       "       4.13563961, 5.01974509, 7.26197257, 6.13396058, 4.585573  ,\n",
       "       6.60791113, 5.32011712, 4.83663476, 5.98934853, 6.72460653,\n",
       "       4.44801239, 5.56395613, 4.47856141, 5.45567175, 4.9266713 ,\n",
       "       5.51687429, 4.0980196 , 5.18864927, 3.13487255, 3.75760616])"
      ]
     },
     "execution_count": 26,
     "metadata": {},
     "output_type": "execute_result"
    }
   ],
   "source": [
    "# specifying the mean as 4.0\n",
    "norm = rng.normal(loc=5, size=100)\n",
    "norm"
   ]
  },
  {
   "cell_type": "markdown",
   "metadata": {},
   "source": [
    "As it is always better to visualise the data instead of just looking at numbers, we going to create a few simple plots using numpy and seaborn functionality below:"
   ]
  },
  {
   "cell_type": "code",
   "execution_count": 27,
   "metadata": {},
   "outputs": [
    {
     "data": {
      "image/png": "[encoded data removed]",
      "text/plain": [
       "<Figure size 432x288 with 1 Axes>"
      ]
     },
     "metadata": {},
     "output_type": "display_data"
    }
   ],
   "source": [
    "# First, let's create a histogram using the array norm which we had created above\n",
    "sns.set_style(\"darkgrid\")\n",
    "sns.histplot(norm).set_title(\"Normal Distribution\", fontsize=20);"
   ]
  },
  {
   "cell_type": "markdown",
   "metadata": {},
   "source": [
    "Now, let's plot the same data but using the KDE - kernal density estimation which is a useful tool in visualing normal distributions. It smooths out the curves by estimating all of the values in between.\n",
    "\n",
    "Information on how to creat KDE plot with seaborn can be found https://seaborn.pydata.org/generated/seaborn.kdeplot.html"
   ]
  },
  {
   "cell_type": "code",
   "execution_count": 28,
   "metadata": {},
   "outputs": [
    {
     "data": {
      "text/plain": [
       "Text(0.5, 1.0, 'Normal Distribution with KDE')"
      ]
     },
     "execution_count": 28,
     "metadata": {},
     "output_type": "execute_result"
    },
    {
     "data": {
      "image/png": "[encoded data removed]",
      "text/plain": [
       "<Figure size 432x288 with 1 Axes>"
      ]
     },
     "metadata": {},
     "output_type": "display_data"
    }
   ],
   "source": [
    "sns.kdeplot(data=norm, fill=True).set_title('Normal Distribution with KDE', fontsize=20)"
   ]
  },
  {
   "cell_type": "markdown",
   "metadata": {},
   "source": [
    "From the example above we can see that the bell shape curve of our plot isn't perfect, we can improve that by choosing the higher size of the data sample. To see the diffrence that **size** parameter makes we going to look at the data sample between 10 and 1,000,000. We can use the default paramters of mean = 0 and standart deviation = 1."
   ]
  },
  {
   "cell_type": "code",
   "execution_count": 29,
   "metadata": {},
   "outputs": [],
   "source": [
    "a = rng.standard_normal(10)\n",
    "b = rng.standard_normal(100)\n",
    "c = rng.standard_normal(1000)\n",
    "d = rng.standard_normal(10000)\n",
    "e = rng.standard_normal(100000)\n",
    "f = rng.standard_normal(1000000)"
   ]
  },
  {
   "cell_type": "code",
   "execution_count": 30,
   "metadata": {},
   "outputs": [
    {
     "data": {
      "image/png": "[encoded data removed]",
      "text/plain": [
       "<Figure size 1008x720 with 6 Axes>"
      ]
     },
     "metadata": {},
     "output_type": "display_data"
    }
   ],
   "source": [
    "# creating 3 rows and 2 columns of plots\n",
    "fig, axs = plt.subplots(3,2,figsize=(14,10))\n",
    "# axs[0,0] etc. specifies location of the plot on the grid, \n",
    "# we can select the number of bins to see more detailed distribution\n",
    "axs[0,0].hist(a, bins=80)\n",
    "axs[0,0].set_title('Data Sample Size 10')\n",
    "axs[0,1].hist(b, bins=80)\n",
    "axs[0,1].set_title('Data Sample Size 100')\n",
    "axs[1,0].hist(c, bins=80)\n",
    "axs[1,0].set_title('Data Sample Size 1000')\n",
    "axs[1,1].hist(d, bins=80)\n",
    "axs[1,1].set_title('Data Sample Size 10000')\n",
    "axs[2,0].hist(e, bins=80)\n",
    "axs[2,0].set_title('Data Sample Size 100000')\n",
    "axs[2,1].hist(f, bins=80)\n",
    "axs[2,1].set_title('Data Sample Size 1000000')\n",
    "# creates space between each of the subplots\n",
    "fig.tight_layout()\n"
   ]
  },
  {
   "cell_type": "markdown",
   "metadata": {},
   "source": [
    "We can see that the last plot which has size = 1,000,000 has a perfect bell shape curve.\n",
    "\n",
    "Now we can compare the plots with different means and standard deviations."
   ]
  },
  {
   "cell_type": "code",
   "execution_count": 31,
   "metadata": {},
   "outputs": [
    {
     "data": {
      "image/png": "[encoded data removed]",
      "text/plain": [
       "<Figure size 864x432 with 1 Axes>"
      ]
     },
     "metadata": {},
     "output_type": "display_data"
    }
   ],
   "source": [
    "# Specifiyng loc, scale and size attributes\n",
    "loc,scale,size = 3,1,10000\n",
    "# Generating four random datasets specifying loc(mean) and scale(standard deviation)\n",
    "ds1 = np.random.normal(loc,scale,size)\n",
    "ds2 = np.random.normal(loc+2, scale+0.5,size)\n",
    "ds3 = np.random.normal(loc-3,scale-0.3,size)\n",
    "ds4 = np.random.normal(loc-3,scale+1.5,size)\n",
    "\n",
    "# setting size of the figure\n",
    "plt.figure(figsize=(12,6))  \n",
    "# using seaborn kdeplot function to plot \n",
    "sns.kdeplot(ds1,fill=True,label=\"$\\mu=3,\\ \\sigma=1$\")\n",
    "sns.kdeplot(ds2,fill=True, label =\"$\\mu=5,\\ \\sigma=1.5$\")\n",
    "sns.kdeplot(ds3,fill=True, label=\"$\\mu=0,\\ \\sigma=0.7$\")\n",
    "sns.kdeplot(ds4,fill=True, label =\"$\\mu=0,\\ \\sigma=2.5$\")\n",
    "plt.legend()\n",
    "plt.suptitle('Normal Distribution with various $\\mu$ and $\\sigma$',fontsize=20)\n",
    "plt.show()"
   ]
  },
  {
   "cell_type": "markdown",
   "metadata": {},
   "source": [
    "The plot above demonstrate the bell-shaped nature of the normal distributions. When we changing the loc parameter it moves the curve along the X-axis while if we changing the scale parameter it either tightens or spreads out the width of the distribution along the X-axis.The curves never cross the x-axis, they continue to infinity in both directions of the mean. However the chances of observing values more than 3 standard deviations from the centre or mean of the curve is very small.\n",
    "\n",
    "There is an [Empirical rule](https://www.statisticshowto.com/probability-and-statistics/statistics-definitions/empirical-rule-2/) for the Normal Distribution according to which 68% of the values under the curve fall between -1 and +1 standard deviations from the mean, 95% of the values fall within two standard deviations from the mean and 99.7% within 3 standard deviations. This rule applies no matter what the mean and standard deviations are. \n",
    "\n",
    "## 3.2 Uniform Distribution\n",
    "***\n",
    "\n",
    "The uniform distribution is a symmetric probability distribution where all outcomes have an equal likelihood of occurring. All values in the distribution have a constant probability, making them uniformly distributed. This distribution is also known as the rectangular distribution because of its shape in probability distribution plots.\n",
    "\n",
    "Examples of the uniform distribution can be: rolling dice and coin tosses; the probability of drawing any card from a deck of cards. Random number generators use the uniform distribution because no number should be more common than other numbers, there is no skew in a uniform distribution like there is in other distributions.\n",
    "\n",
    "Numpy has [`numpy.random.uniform(low=0.0, high=1.0, size=None)`](https://numpy.org/doc/stable/reference/random/generated/numpy.random.uniform.html) function produces value within the given interval which is equally likely to be drawn by uniform.\n",
    "\n",
    "Let's have a look at a few examples:"
   ]
  },
  {
   "cell_type": "code",
   "execution_count": 32,
   "metadata": {},
   "outputs": [
    {
     "data": {
      "text/plain": [
       "0.712145353510226"
      ]
     },
     "execution_count": 32,
     "metadata": {},
     "output_type": "execute_result"
    }
   ],
   "source": [
    "# if no parameters specified returns a floating point number in the interval [0,1)\n",
    "rng.uniform()"
   ]
  },
  {
   "cell_type": "markdown",
   "metadata": {},
   "source": [
    "If only one value is provided, it will be considered as the upper limit (non-inclusive)"
   ]
  },
  {
   "cell_type": "code",
   "execution_count": 33,
   "metadata": {},
   "outputs": [
    {
     "data": {
      "text/plain": [
       "4.157996144776104"
      ]
     },
     "execution_count": 33,
     "metadata": {},
     "output_type": "execute_result"
    }
   ],
   "source": [
    "# returns a floating point number between 0.0 and 7.0\n",
    "rng.uniform(7)"
   ]
  },
  {
   "cell_type": "code",
   "execution_count": 34,
   "metadata": {},
   "outputs": [
    {
     "data": {
      "text/plain": [
       "9.364995528201458"
      ]
     },
     "execution_count": 34,
     "metadata": {},
     "output_type": "execute_result"
    }
   ],
   "source": [
    "# returns a floating point number in the interval [5,10)\n",
    "rng.uniform(5,10)"
   ]
  },
  {
   "cell_type": "markdown",
   "metadata": {},
   "source": [
    "We can also create multiple values if we use size paraeter or create a 2D array."
   ]
  },
  {
   "cell_type": "code",
   "execution_count": 35,
   "metadata": {},
   "outputs": [
    {
     "data": {
      "text/plain": [
       "array([[10.46294978, 11.68999608,  6.60875035],\n",
       "       [11.68302453, 11.41427272,  6.74855217],\n",
       "       [ 7.04882238,  6.46706763,  9.92424462],\n",
       "       [ 9.76674861,  9.01382936,  7.88173788]])"
      ]
     },
     "execution_count": 35,
     "metadata": {},
     "output_type": "execute_result"
    }
   ],
   "source": [
    "rng.uniform(5, 15, size=(4, 3))"
   ]
  },
  {
   "cell_type": "markdown",
   "metadata": {},
   "source": [
    "To visualize this, we can display results on the grid plot, lets use 1000 values between 5 and 15"
   ]
  },
  {
   "cell_type": "code",
   "execution_count": 36,
   "metadata": {},
   "outputs": [
    {
     "data": {
      "text/plain": [
       "[<matplotlib.lines.Line2D at 0x7fbfe2a40f40>]"
      ]
     },
     "execution_count": 36,
     "metadata": {},
     "output_type": "execute_result"
    },
    {
     "data": {
      "image/png": "[encoded data removed]",
      "text/plain": [
       "<Figure size 432x288 with 1 Axes>"
      ]
     },
     "metadata": {},
     "output_type": "display_data"
    }
   ],
   "source": [
    "s = rng.uniform(5, 15, size=1000)\n",
    "plt.plot(s, 'b.')\n"
   ]
  },
  {
   "cell_type": "markdown",
   "metadata": {},
   "source": [
    "Below, we can use the example from official [numpy documentation](https://numpy.org/doc/stable/reference/random/generated/numpy.random.uniform.html) to display the histogram of the samples, along with the probability density function"
   ]
  },
  {
   "cell_type": "code",
   "execution_count": 37,
   "metadata": {},
   "outputs": [
    {
     "data": {
      "image/png": "[encoded data removed]",
      "text/plain": [
       "<Figure size 432x288 with 1 Axes>"
      ]
     },
     "metadata": {},
     "output_type": "display_data"
    }
   ],
   "source": [
    "s = np.random.uniform(-1,0,1000)\n",
    "# use np.ones_like function to return an array of ones with the same shape and type as s.\n",
    "import matplotlib.pyplot as plt\n",
    "# specifying amont of bins - 15 \n",
    "count, bins, ignored = plt.hist(s, 15, density=True) \n",
    "plt.plot(bins, np.ones_like(bins), linewidth=2, color='r') # add a horizontal line at 1.0 using the np.ones like\n",
    "plt.show()\n"
   ]
  },
  {
   "cell_type": "markdown",
   "metadata": {},
   "source": [
    "The bigger the size of the array the easier it is to recognise uniform distribution. Below, we going to create  various sizes of arrays of values between 0 and 50. Theoretically there's an equal chance for each value to occur but this only becomes obvious when we increase the sample size, which is clearly confirmed by the plots below. The last plot which has a sample of 10 million values is almost a straight line."
   ]
  },
  {
   "cell_type": "code",
   "execution_count": 38,
   "metadata": {},
   "outputs": [],
   "source": [
    "# looking at the difference the sample size makes\n",
    "a = rng.integers(50, size = 100)\n",
    "b = rng.integers(50, size = 1000)\n",
    "c = rng.integers(50, size = 10000)\n",
    "d = rng.integers(50, size = 100000)\n",
    "e = rng.integers(50, size = 100000)\n",
    "f = rng.integers(50, size = 10000000)"
   ]
  },
  {
   "cell_type": "code",
   "execution_count": null,
   "metadata": {},
   "outputs": [],
   "source": [
    "# creating 3 rows and 2 columns of plots\n",
    "# axs[0,0] etc. specifies location of the plot on the grid\n",
    "fig, axs = plt.subplots(3,2, figsize=(14,10))\n",
    "axs[0,0].hist(a, bins=50)\n",
    "axs[0,0].set_title('Sample Size 100')\n",
    "axs[0,1].hist(b, bins=50)\n",
    "axs[0,1].set_title('Sample Size 1000')\n",
    "axs[1,0].hist(c, bins=50)\n",
    "axs[1,0].set_title('Sample Size 10,000')\n",
    "axs[1,1].hist(d, bins=50)\n",
    "axs[1,1].set_title('Sample Size 100,000')\n",
    "axs[2,0].hist(e, bins=50)\n",
    "axs[2,0].set_title('Sample Size 1,000,000')\n",
    "axs[2,1].hist(f, bins=50)\n",
    "axs[2,1].set_title('Sample Size 10,000,000')\n",
    "# creates space between each of the subplots\n",
    "fig.tight_layout()"
   ]
  },
  {
   "cell_type": "markdown",
   "metadata": {},
   "source": [
    "## 3.3 Binomial Distribution\n",
    "***\n",
    "\n",
    "[Binomial distribution](https://numpy.org/doc/stable/reference/random/generated/numpy.random.Generator.binomial.html#numpy.random.Generator.binomial) is when we're dealing with only two possible outcomes (success or a failure) in an experiment that is repeated many times. Example of the outcomes of binomial experiment can be heads or tails of a coin, true or false,  pass or fail. One of these outcomes can be called a success and the other a failure. The probability of success is the same on every trial. \n",
    "\n",
    "The `numpy.random.binomial(n, p, size=None)` function is used to sample from a binomial distribution given the number of trials **n** and the probability **p** of success on each trail. The number of samples **size** represents the number of times to repeat the n trials.\n",
    "\n",
    "Number of trials **n** should be an integer greater than or equal to zero. The probability **p** must be in the interval [0,1] as total probability always sums to one. It returns an array of samples drawn from the binomial distribution based on the n and p and size parameters given to the function. Each sample returned is equal to the number of successes over n trials.\n",
    "\n",
    "The following parameters are used in the function:\n",
    "-\t<span style=\"color:Blue; font-weight:bold;\">n</span> the number of trials,\n",
    "-\t<span style=\"color:Blue; font-weight:bold;\">p</span> the probability of success in each trial\n",
    "-\t<span style=\"color:Blue; font-weight:bold;\">size</span> is the number of samples drawn (the number of times the experiment is run)\n"
   ]
  },
  {
   "cell_type": "code",
   "execution_count": null,
   "metadata": {},
   "outputs": [],
   "source": [
    "# simple example which returns either 0 or 1 ten times\n",
    "rng.binomial(n=1, p=0.5, size=10)"
   ]
  },
  {
   "cell_type": "markdown",
   "metadata": {},
   "source": [
    "<img src=\"https://www.sitesbay.com/aptitude/images/toss-coin-probability.jpg\" width=\"400\">"
   ]
  },
  {
   "cell_type": "markdown",
   "metadata": {},
   "source": [
    "Now, lets imagine we've tossed a coin 100 times and have a look at the results on a bar chart. In theory both reults should be equal. "
   ]
  },
  {
   "cell_type": "code",
   "execution_count": null,
   "metadata": {},
   "outputs": [],
   "source": [
    "coin = rng.binomial(n=1, p=0.5, size=100)"
   ]
  },
  {
   "cell_type": "code",
   "execution_count": null,
   "metadata": {},
   "outputs": [],
   "source": [
    "# we can easily create a plot using matplotlib\n",
    "plt.title(\"Results for heads and tails\", fontsize=20) \n",
    "plt.bar(['Heads', 'Tails'], [coin.size - coin.sum(), coin.sum()])"
   ]
  },
  {
   "cell_type": "code",
   "execution_count": null,
   "metadata": {},
   "outputs": [],
   "source": [
    "sns.set(rc={'figure.figsize':(10,7)})\n",
    "coin2 = rng.binomial(n=1, p=0.5, size=1000)\n",
    "# now let's try the same with seaborn, using inique function. We will \"toss the coint\" 1000 times now\n",
    "unique, counts = np.unique(coin2, return_counts=True)\n",
    "sns.barplot(x=unique, y=counts).set_title(\"Results for heads and tails\",fontsize=20)"
   ]
  },
  {
   "cell_type": "raw",
   "metadata": {},
   "source": [
    "From the plots above we can see that the bigger the size parameter the more accurate are the results and heads or tails outcome becomes almost equal.\n",
    "Next, we can simulate tossing the coin 10 times and counting the success of either heads or tails, then repeating that 10000 times."
   ]
  },
  {
   "cell_type": "code",
   "execution_count": null,
   "metadata": {},
   "outputs": [],
   "source": [
    "u = rng.binomial(n=10, p=0.5, size=10000)"
   ]
  },
  {
   "cell_type": "markdown",
   "metadata": {},
   "source": [
    "We can again use a bar chart to plot this, but first we have to isolate the unique values using NumPy's unique function, and the counts for each.\n",
    "\n"
   ]
  },
  {
   "cell_type": "code",
   "execution_count": null,
   "metadata": {},
   "outputs": [],
   "source": [
    "unique, counts = np.unique(u, return_counts=True)\n",
    "unique"
   ]
  },
  {
   "cell_type": "code",
   "execution_count": null,
   "metadata": {},
   "outputs": [],
   "source": [
    "# creating a barplot\n",
    "sns.barplot(x=unique,y=counts).set_title(\"Results for 10 coin tosses, 10000 times\", fontsize=20) "
   ]
  },
  {
   "cell_type": "markdown",
   "metadata": {},
   "source": [
    "This time the plot looks like a normal distribution."
   ]
  },
  {
   "cell_type": "markdown",
   "metadata": {},
   "source": [
    "<img style=\"float: left; padding-right:30px\" src=\"https://www.frontlinegaming.org/wp-content/uploads/2017/12/Rolling-Dice.jpg\" width=\"400\">\n",
    "\n",
    "Suppose we’re playing a game where we want to roll sixes on a die. If we want to know the probability of rolling  sixes in ten die rolls, we can easily demonstrate it using binomial distribution, it is beneficial because it can describe the probability of all possible numbers of successes out of the total number of trials (N). \n",
    "\n",
    "In the graph below, the distribution finds the probability of rolling exactly no sixes, 1 six, 2 sixes, 3 sixes, . . ., and up to 10 sixes in the ten die rolls. Using this approach, the distribution covers the complete range of possible successes up to the total number of trials. [statisticsbyjim](https://statisticsbyjim.com/probability/binomial-distribution/)"
   ]
  },
  {
   "cell_type": "code",
   "execution_count": null,
   "metadata": {},
   "outputs": [],
   "source": [
    "# the number of trials is 10 (n), and the probability (p) is 1/6 = 0.1667.\n",
    "d = rng.binomial(n=10, p=0.1667, size=1000)\n",
    "unique, counts = np.unique(d, return_counts=True)\n",
    "sns.barplot(x=unique, y=counts).set_title(\"Rolling Sixes in 10 Die Rolls\", fontsize=20)"
   ]
  },
  {
   "cell_type": "markdown",
   "metadata": {},
   "source": [
    "In the chart, each bar represents the probability of rolling a specific number of sixes out of ten die rolls. The graph does not show the chances for seven and higher because the likelihoods of that many sixes in just ten rolls are too low to display on the chart.\n",
    "\n",
    "The graph indicates the probability of rolling no sixes is about 16%. The highest chance is rolling one six (32%). Although, rolling two sixes occurs almost as frequently. Probabilities drop off quickly starting with three sixes."
   ]
  },
  {
   "cell_type": "markdown",
   "metadata": {},
   "source": [
    "## 3.4 Poisson Distribution\n",
    "***\n",
    "\n",
    "[Poisson Distribution](https://numpy.org/doc/stable/reference/random/generated/numpy.random.Generator.poisson.html#numpy.random.Generator.poisson), named after French mathematician Siméon Denis Poisson, is a discrete probability distribution that expresses the probability of a given number of events occurring in a fixed interval of time or space if these events occur with a known constant rate and independently of the time since the last event. The Poisson distribution can also be used for the number of events in other specified intervals such as distance, area or volume. [Wiki](https://en.wikipedia.org/wiki/Poisson_distribution#:~:text=In%20probability%20theory%20and%20statistics,time%20since%20the%20last%20event.) It is in fact a limiting case of the binomial distribution.\n",
    "It can be used to simulate number of 'events' occuring in specific intervals when the average freqency rate is known and is not dependent on the previous occurances.\n",
    "\n",
    "`numpy.random.poisson(lam=1.0, size=None)` function is used to draw samples from a Poisson distribution. It takes a  parameter as well as a size for the number of samples.\n",
    "\n",
    "As a first example of Poisson distribution we going to use one from official numpy documentation."
   ]
  },
  {
   "cell_type": "code",
   "execution_count": null,
   "metadata": {},
   "outputs": [],
   "source": [
    "# lambda is set to 5, 1000 samples\n",
    "s = rng.poisson(5, 10000)\n",
    "# plotting histogram of values\n",
    "count, bins, ignored = plt.hist(s, 14, density=True)\n",
    "plt.show()"
   ]
  },
  {
   "cell_type": "markdown",
   "metadata": {},
   "source": [
    "Let's create a 1000x4 array with samples from poisson distributions with different 𝛌 parameters. Then we can create a DataFrame and then look at the summary statistics using `pandas.describe` function. From the results we can see that expected value, variance and lambda are all very close."
   ]
  },
  {
   "cell_type": "code",
   "execution_count": null,
   "metadata": {},
   "outputs": [],
   "source": [
    "# Draw each 10 values for lambda 5,10,30 and 50\n",
    "s = np.random.poisson(lam=(5,10,30,50), size=(1000, 4))\n",
    "poissonDist= pd.DataFrame(s, columns=['lambda=5','lambda10','lambda=30','lambda=50'])\n",
    "print(poissonDist.describe())\n",
    "\n",
    "print(\"\\nVariances\")\n",
    "print(poissonDist.var())"
   ]
  },
  {
   "cell_type": "markdown",
   "metadata": {},
   "source": [
    "Next we are going to compare poisson distribution with different 𝛌's on a plot."
   ]
  },
  {
   "cell_type": "code",
   "execution_count": null,
   "metadata": {},
   "outputs": [],
   "source": [
    "# specifying 𝛌 and size\n",
    "lam,size = 5,1000\n",
    "# Generate a random datasets using random.poisson\n",
    "p1 = np.random.poisson(lam, size) \n",
    "p2 = np.random.poisson(lam+5, size) \n",
    "p3 = np.random.poisson(lam+15, size) \n",
    "# creating 3 histograms\n",
    "sns.histplot(p1, label = \"$\\lambda$=5\", color=\"red\", alpha=0.4 ) \n",
    "sns.histplot(p2, label = \"$\\lambda$=10\", color=\"green\", alpha=0.4) \n",
    "sns.histplot(p3, label = \"$\\lambda$=20\", color=\"yellow\", alpha=0.4) \n",
    "\n",
    "plt.legend()\n",
    "plt.title(\"Poisson Distribution with different $\\lambda$\", fontsize=20)\n",
    "plt.show()"
   ]
  },
  {
   "attachments": {
    "image.png": {
     "image/png": "[encoded data removed]"
    }
   },
   "cell_type": "markdown",
   "metadata": {},
   "source": [
    "## 3.5 Exponential Distribution\n",
    "***\n",
    "The exponential distribution is one of the widely used continuous distributions. It is often used to model the time elapsed between events. For example, the amount of time, beginning now, until a volcano errupts; size of raindrops measured over many rainstorms, or the time between page requests to Wikipedia . They are commonly used in calculations of product reliability, or the length of time a product lasts. [probabilitycourse](https://www.probabilitycourse.com/chapter4/4_2_2_exponential.php)\n",
    "\n",
    "The probability density function (pdf) of an exponential distribution is\n",
    "\n",
    "![image.png](attachment:image.png)\n",
    "\n",
    "Here λ > 0 is the parameter of the distribution, often called the rate parameter. The distribution is supported on the interval [0, ∞). \n",
    "[Wiki](https://en.wikipedia.org/wiki/Exponential_distribution)\n",
    "\n",
    "`numpy.random.exponential(scale=1.0, size=None)` function is used to sample from parameterized exponential distribution.\n",
    "There are two optional parameters in this function:\n",
    "- <span style=\"color:Blue; font-weight:bold;\">scale</span>: float or array_like of floats, inverse of rate defaults to 1.0. \n",
    "- <span style=\"color:Blue; font-weight:bold;\">size</span>: int or tuple of ints, optional. The shape of the returned array.\n",
    "\n",
    "Same as in previous examples of distributions, if no parameter is passed we get a single value . "
   ]
  },
  {
   "cell_type": "code",
   "execution_count": null,
   "metadata": {},
   "outputs": [],
   "source": [
    "rng.exponential()"
   ]
  },
  {
   "cell_type": "code",
   "execution_count": null,
   "metadata": {},
   "outputs": [],
   "source": [
    "# This time, let's select both parameters: scale = 2 (time period) and size 2X3\n",
    "x = rng.exponential(scale=2, size=(2, 3))\n",
    "x"
   ]
  },
  {
   "cell_type": "code",
   "execution_count": null,
   "metadata": {},
   "outputs": [],
   "source": [
    "# Next we can use histogram to visualise this\n",
    "exp_val = list(rng.exponential(scale=15, size=800))\n",
    "sns.histplot(exp_val, color='darkgreen')\n",
    "plt.title(\"Exponential Distribution\", fontsize=20, y=1.012)"
   ]
  },
  {
   "cell_type": "code",
   "execution_count": null,
   "metadata": {},
   "outputs": [],
   "source": [
    "# We can also create a KDE plot as another example\n",
    "sns.kdeplot(rng.exponential(scale=10, size=1000), color=\"lightblue\", fill=True, alpha=0.7 ) \n",
    "\n",
    "plt.title(\"Exponential Distribution with KDE\", fontsize=20)\n",
    "plt.show()"
   ]
  },
  {
   "cell_type": "code",
   "execution_count": null,
   "metadata": {},
   "outputs": [],
   "source": [
    "# Now, let's compare exponential distribution, using different scale parameter.\n",
    "scale,size = 1,1000\n",
    "# Generate a random datasets using random.exponential\n",
    "e1 = np.random.exponential(scale, size) \n",
    "e2 = np.random.exponential(scale-0.5, size) \n",
    "e3 = np.random.exponential(scale+0.5, size) \n",
    "# creating 3 histograms\n",
    "sns.histplot(e1, label = \"scale=1\", color=\"red\",  alpha=0.8 ) \n",
    "sns.histplot(e2, label = \"scale=0.5\", color=\"green\",  alpha=0.9) \n",
    "sns.histplot(e3, label = \"scale=1.5\", color=\"yellow\",alpha=0.4) \n",
    "\n",
    "plt.legend()\n",
    "plt.title(\"Exponential Distribution with different scale\", fontsize=20)\n",
    "plt.show()"
   ]
  },
  {
   "cell_type": "code",
   "execution_count": null,
   "metadata": {},
   "outputs": [],
   "source": []
  },
  {
   "cell_type": "code",
   "execution_count": null,
   "metadata": {},
   "outputs": [],
   "source": []
  },
  {
   "cell_type": "code",
   "execution_count": null,
   "metadata": {},
   "outputs": [],
   "source": []
  },
  {
   "cell_type": "markdown",
   "metadata": {},
   "source": [
    "britannica - https://www.britannica.com/topic/normal-distribution\n",
    "\n",
    "Wiki - https://en.wikipedia.org/wiki/Normal_distribution\n",
    "\n",
    "statisticsbyjim - https://statisticsbyjim.com/basics/normal-distribution/\n",
    "\n",
    "https://www.sciencedirect.com/topics/mathematics/poisson-distribution\n",
    "\n",
    "https://www.probabilitycourse.com/chapter4/4_2_2_exponential.php\n"
   ]
  }
 ],
 "metadata": {
  "kernelspec": {
   "display_name": "Python 3",
   "language": "python",
   "name": "python3"
  },
  "language_info": {
   "codemirror_mode": {
    "name": "ipython",
    "version": 3
   },
   "file_extension": ".py",
   "mimetype": "text/x-python",
   "name": "python",
   "nbconvert_exporter": "python",
   "pygments_lexer": "ipython3",
   "version": "3.8.5"
  }
 },
 "nbformat": 4,
 "nbformat_minor": 4
}
